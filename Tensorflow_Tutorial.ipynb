{
  "nbformat": 4,
  "nbformat_minor": 0,
  "metadata": {
    "colab": {
      "provenance": [],
      "include_colab_link": true
    },
    "kernelspec": {
      "display_name": "Python 3",
      "name": "python3"
    }
  },
  "cells": [
    {
      "cell_type": "markdown",
      "metadata": {
        "id": "view-in-github",
        "colab_type": "text"
      },
      "source": [
        "<a href=\"https://colab.research.google.com/github/lta36/RL/blob/main/Tensorflow_Tutorial.ipynb\" target=\"_parent\"><img src=\"https://colab.research.google.com/assets/colab-badge.svg\" alt=\"Open In Colab\"/></a>"
      ]
    },
    {
      "cell_type": "markdown",
      "metadata": {
        "id": "JlGgJ7gBGd5w"
      },
      "source": [
        "Notebook adopted from Alvin Pan (Former TA)"
      ]
    },
    {
      "cell_type": "markdown",
      "metadata": {
        "id": "ZoEGioEWkj27"
      },
      "source": [
        "### Tensorflow NeuralNet Example"
      ]
    },
    {
      "cell_type": "code",
      "metadata": {
        "id": "nElWrrsekkpw"
      },
      "source": [
        "import tensorflow as tf\n",
        "import matplotlib.pyplot as plt\n",
        "import numpy as np"
      ],
      "execution_count": null,
      "outputs": []
    },
    {
      "cell_type": "code",
      "metadata": {
        "colab": {
          "base_uri": "https://localhost:8080/"
        },
        "id": "IE728VkPfwU1",
        "outputId": "7f6b9504-7084-45df-eff0-5f1b7a842c2e"
      },
      "source": [
        "X = tf.random.normal(\n",
        "    shape=[10,10], dtype=tf.dtypes.float32, seed=None, name=None\n",
        ")\n",
        "X"
      ],
      "execution_count": null,
      "outputs": [
        {
          "data": {
            "text/plain": [
              "<tf.Tensor: shape=(10, 10), dtype=float32, numpy=\n",
              "array([[-0.43766966,  0.6514213 , -1.3674514 , -0.7629268 ,  0.55585885,\n",
              "         0.10559212,  1.3659743 ,  2.166216  ,  0.52242136,  1.8874416 ],\n",
              "       [-0.21419924, -0.83834076, -0.32541966,  0.4629239 ,  1.6094146 ,\n",
              "         0.1570129 , -0.1886758 ,  1.0333475 , -1.745099  ,  0.23259036],\n",
              "       [ 0.6833569 ,  0.7563238 ,  0.77150023,  0.85515404, -2.234364  ,\n",
              "        -1.2494018 ,  0.1950037 , -1.2681196 ,  0.71863985, -1.0305818 ],\n",
              "       [ 0.8356834 , -1.1745186 ,  0.07862271,  1.5512508 ,  1.6012942 ,\n",
              "        -0.45833045, -1.5643427 , -0.670515  , -0.44134647, -1.2436055 ],\n",
              "       [-0.35463282,  0.29603982,  0.08184888,  0.73844486,  1.093459  ,\n",
              "         0.47180524,  0.61311287,  0.51183605, -0.4405215 , -0.14844316],\n",
              "       [-1.7971636 , -0.37309992,  0.9830137 , -1.5698546 , -1.979104  ,\n",
              "         1.9405367 ,  0.03719208, -0.3496666 , -0.534703  ,  0.6582037 ],\n",
              "       [ 1.218381  ,  0.22564396,  0.06985486,  0.16731024, -0.4515383 ,\n",
              "         1.0909735 , -0.7890891 , -0.47697347, -1.0448707 ,  1.3585609 ],\n",
              "       [-1.2801529 , -1.3172543 , -1.1836116 , -0.04711868,  0.6299684 ,\n",
              "         1.3793634 ,  1.5625623 , -1.9552405 ,  0.39213136, -0.59431905],\n",
              "       [-0.49506798, -0.47477728,  1.4464822 , -0.1819009 , -1.4099834 ,\n",
              "        -0.11952186, -0.29471785,  0.70023733, -1.7082874 ,  1.6961133 ],\n",
              "       [ 0.03002738, -0.06742229, -0.22626106,  0.83470726,  1.2942894 ,\n",
              "        -0.32573408,  1.3854667 , -0.341026  ,  0.64540833, -0.8831595 ]],\n",
              "      dtype=float32)>"
            ]
          },
          "execution_count": 31,
          "metadata": {},
          "output_type": "execute_result"
        }
      ]
    },
    {
      "cell_type": "code",
      "metadata": {
        "colab": {
          "base_uri": "https://localhost:8080/"
        },
        "id": "BCN80zt8fwha",
        "outputId": "b23b6294-26c4-42dd-9980-8f665a9c5a40"
      },
      "source": [
        "Y = np.eye(2)[np.random.choice(2,10)]\n",
        "Y = tf.convert_to_tensor(Y, dtype='float32')\n",
        "Y\n",
        "#Y.numpy()"
      ],
      "execution_count": null,
      "outputs": [
        {
          "data": {
            "text/plain": [
              "<tf.Tensor: shape=(10, 2), dtype=float32, numpy=\n",
              "array([[0., 1.],\n",
              "       [1., 0.],\n",
              "       [1., 0.],\n",
              "       [0., 1.],\n",
              "       [0., 1.],\n",
              "       [1., 0.],\n",
              "       [1., 0.],\n",
              "       [0., 1.],\n",
              "       [0., 1.],\n",
              "       [1., 0.]], dtype=float32)>"
            ]
          },
          "execution_count": 32,
          "metadata": {},
          "output_type": "execute_result"
        }
      ]
    },
    {
      "cell_type": "code",
      "metadata": {
        "id": "lHPtb0TxePcW"
      },
      "source": [
        "model1 = tf.keras.models.Sequential(\n",
        "[\n",
        " tf.keras.layers.Dense(5, activation='tanh'),\n",
        " tf.keras.layers.Dense(5, activation='relu'),\n",
        " tf.keras.layers.Dense(2, activation='softmax')\n",
        "])"
      ],
      "execution_count": null,
      "outputs": []
    },
    {
      "cell_type": "code",
      "metadata": {
        "id": "LuMfKxRMePta"
      },
      "source": [
        "'''\n",
        "model1.compile(\n",
        "    optimizer='adam',\n",
        "    loss='mse',\n",
        "    metrics=['accuracy'],\n",
        ")\n",
        "'''\n",
        "\n",
        "model1.compile(\n",
        "    optimizer='adam',\n",
        "    loss=tf.keras.losses.MSE,\n",
        "    metrics=['accuracy'],\n",
        ")"
      ],
      "execution_count": null,
      "outputs": []
    },
    {
      "cell_type": "code",
      "metadata": {
        "colab": {
          "base_uri": "https://localhost:8080/"
        },
        "id": "bB1SBR1kh7lp",
        "outputId": "364a5dad-f266-486f-96d1-a8b2ce71b6a6"
      },
      "source": [
        "hist = model1.fit(X, Y, epochs=10)"
      ],
      "execution_count": null,
      "outputs": [
        {
          "name": "stdout",
          "output_type": "stream",
          "text": [
            "Epoch 1/10\n",
            "1/1 [==============================] - 1s 918ms/step - loss: 0.1649 - accuracy: 0.8000\n",
            "Epoch 2/10\n",
            "1/1 [==============================] - 0s 10ms/step - loss: 0.1637 - accuracy: 0.8000\n",
            "Epoch 3/10\n",
            "1/1 [==============================] - 0s 7ms/step - loss: 0.1625 - accuracy: 0.8000\n",
            "Epoch 4/10\n",
            "1/1 [==============================] - 0s 7ms/step - loss: 0.1613 - accuracy: 0.8000\n",
            "Epoch 5/10\n",
            "1/1 [==============================] - 0s 6ms/step - loss: 0.1601 - accuracy: 0.8000\n",
            "Epoch 6/10\n",
            "1/1 [==============================] - 0s 10ms/step - loss: 0.1589 - accuracy: 0.8000\n",
            "Epoch 7/10\n",
            "1/1 [==============================] - 0s 5ms/step - loss: 0.1577 - accuracy: 0.8000\n",
            "Epoch 8/10\n",
            "1/1 [==============================] - 0s 5ms/step - loss: 0.1565 - accuracy: 0.8000\n",
            "Epoch 9/10\n",
            "1/1 [==============================] - 0s 8ms/step - loss: 0.1553 - accuracy: 0.8000\n",
            "Epoch 10/10\n",
            "1/1 [==============================] - 0s 5ms/step - loss: 0.1541 - accuracy: 0.8000\n"
          ]
        }
      ]
    },
    {
      "cell_type": "code",
      "metadata": {
        "colab": {
          "base_uri": "https://localhost:8080/"
        },
        "id": "R4HVvCpS36AC",
        "outputId": "f36d7d71-362d-42ac-93d6-4036744e022f"
      },
      "source": [
        "loss = hist.history['loss'][0]\n",
        "loss"
      ],
      "execution_count": null,
      "outputs": [
        {
          "data": {
            "text/plain": [
              "0.1649094521999359"
            ]
          },
          "execution_count": 13,
          "metadata": {},
          "output_type": "execute_result"
        }
      ]
    },
    {
      "cell_type": "code",
      "metadata": {
        "colab": {
          "base_uri": "https://localhost:8080/"
        },
        "id": "Vn0Zakk83_mU",
        "outputId": "a4d5d474-0b0e-451b-f62e-75bb18187d4a"
      },
      "source": [
        "acc = hist.history['accuracy'][-1]\n",
        "acc"
      ],
      "execution_count": null,
      "outputs": [
        {
          "data": {
            "text/plain": [
              "0.800000011920929"
            ]
          },
          "execution_count": 14,
          "metadata": {},
          "output_type": "execute_result"
        }
      ]
    },
    {
      "cell_type": "code",
      "metadata": {
        "id": "0xZK2gfriPK6"
      },
      "source": [
        "model2 = tf.keras.models.Sequential(\n",
        "[\n",
        " tf.keras.layers.Dense(5, activation='relu'),\n",
        " tf.keras.layers.Dense(5, activation='relu'),\n",
        " tf.keras.layers.Dense(2, activation='softmax')\n",
        "])"
      ],
      "execution_count": null,
      "outputs": []
    },
    {
      "cell_type": "code",
      "metadata": {
        "id": "69Ds7vjYkBZb"
      },
      "source": [
        "op = tf.keras.optimizers.Adam(learning_rate=1e-3)"
      ],
      "execution_count": null,
      "outputs": []
    },
    {
      "cell_type": "code",
      "metadata": {
        "id": "-wiaRJi9i-En"
      },
      "source": [
        "losses = []\n",
        "for _ in range(200):\n",
        "  with tf.GradientTape() as tape:\n",
        "    yhat = model2(X)\n",
        "    loss = tf.reduce_mean((Y - yhat)**2)\n",
        "  gradients = tape.gradient(loss, model2.trainable_weights)\n",
        "  op.apply_gradients(zip(gradients, model2.trainable_weights))\n",
        "  losses.append(loss.numpy())"
      ],
      "execution_count": null,
      "outputs": []
    },
    {
      "cell_type": "code",
      "metadata": {
        "colab": {
          "base_uri": "https://localhost:8080/",
          "height": 301
        },
        "id": "QXeCf-_hlT2L",
        "outputId": "9fd33f01-ea37-4893-c7e2-d7f01c359cd7"
      },
      "source": [
        "plt.plot(range(200),losses)\n",
        "plt.xlabel('epoch', fontsize=16)\n",
        "plt.ylabel('loss', fontsize=16)"
      ],
      "execution_count": null,
      "outputs": [
        {
          "data": {
            "text/plain": [
              "Text(0, 0.5, 'loss')"
            ]
          },
          "execution_count": 18,
          "metadata": {},
          "output_type": "execute_result"
        },
        {
          "data": {
            "image/png": "[encoded data removed]",
            "text/plain": [
              "<Figure size 432x288 with 1 Axes>"
            ]
          },
          "metadata": {},
          "output_type": "display_data"
        }
      ]
    },
    {
      "cell_type": "code",
      "metadata": {
        "id": "7hnW_FHqkDy0"
      },
      "source": [
        "Z = tf.random.uniform(\n",
        "    shape=[10,2], dtype=tf.dtypes.float32, seed=None)"
      ],
      "execution_count": null,
      "outputs": []
    },
    {
      "cell_type": "markdown",
      "metadata": {
        "id": "1_qvfLj6lj21"
      },
      "source": [
        "#### Be careful with syntax!"
      ]
    },
    {
      "cell_type": "code",
      "metadata": {
        "colab": {
          "base_uri": "https://localhost:8080/"
        },
        "id": "NGvXWQfhkTUf",
        "outputId": "da4cdda2-203b-46a6-e923-fc30fc6ef9d6"
      },
      "source": [
        "model1(X)"
      ],
      "execution_count": null,
      "outputs": [
        {
          "data": {
            "text/plain": [
              "<tf.Tensor: shape=(10, 2), dtype=float32, numpy=\n",
              "array([[0.19189939, 0.80810064],\n",
              "       [0.30586687, 0.6941332 ],\n",
              "       [0.36222047, 0.63777953],\n",
              "       [0.47159436, 0.52840567],\n",
              "       [0.20601808, 0.7939819 ],\n",
              "       [0.34950444, 0.6504956 ],\n",
              "       [0.19433694, 0.80566305],\n",
              "       [0.29255536, 0.7074446 ],\n",
              "       [0.5179685 , 0.4820315 ],\n",
              "       [0.23033275, 0.76966727]], dtype=float32)>"
            ]
          },
          "execution_count": 24,
          "metadata": {},
          "output_type": "execute_result"
        }
      ]
    },
    {
      "cell_type": "code",
      "metadata": {
        "colab": {
          "base_uri": "https://localhost:8080/"
        },
        "id": "a5bX3zGal1QW",
        "outputId": "787ad648-96b5-43af-c869-4d17263f29c1"
      },
      "source": [
        "model1(X.numpy())"
      ],
      "execution_count": null,
      "outputs": [
        {
          "data": {
            "text/plain": [
              "<tf.Tensor: shape=(10, 2), dtype=float32, numpy=\n",
              "array([[0.19189939, 0.80810064],\n",
              "       [0.30586687, 0.6941332 ],\n",
              "       [0.36222047, 0.63777953],\n",
              "       [0.47159436, 0.52840567],\n",
              "       [0.20601808, 0.7939819 ],\n",
              "       [0.34950444, 0.6504956 ],\n",
              "       [0.19433694, 0.80566305],\n",
              "       [0.29255536, 0.7074446 ],\n",
              "       [0.5179685 , 0.4820315 ],\n",
              "       [0.23033275, 0.76966727]], dtype=float32)>"
            ]
          },
          "execution_count": 25,
          "metadata": {},
          "output_type": "execute_result"
        }
      ]
    },
    {
      "cell_type": "code",
      "metadata": {
        "colab": {
          "base_uri": "https://localhost:8080/",
          "height": 511
        },
        "id": "Dg03aRx9k91w",
        "outputId": "784e8c00-7c74-4c7e-ae05-a7c4df2048a9"
      },
      "source": [
        "model1(X.numpy().tolist())"
      ],
      "execution_count": null,
      "outputs": [
        {
          "ename": "ValueError",
          "evalue": "ignored",
          "output_type": "error",
          "traceback": [
            "\u001b[0;31m---------------------------------------------------------------------------\u001b[0m",
            "\u001b[0;31mValueError\u001b[0m                                Traceback (most recent call last)",
            "\u001b[0;32m<ipython-input-23-6ebbba1e4c63>\u001b[0m in \u001b[0;36m<module>\u001b[0;34m()\u001b[0m\n\u001b[0;32m----> 1\u001b[0;31m \u001b[0mmodel1\u001b[0m\u001b[0;34m(\u001b[0m\u001b[0mX\u001b[0m\u001b[0;34m.\u001b[0m\u001b[0mnumpy\u001b[0m\u001b[0;34m(\u001b[0m\u001b[0;34m)\u001b[0m\u001b[0;34m.\u001b[0m\u001b[0mtolist\u001b[0m\u001b[0;34m(\u001b[0m\u001b[0;34m)\u001b[0m\u001b[0;34m)\u001b[0m\u001b[0;34m\u001b[0m\u001b[0;34m\u001b[0m\u001b[0m\n\u001b[0m",
            "\u001b[0;32m/usr/local/lib/python3.7/dist-packages/keras/engine/base_layer.py\u001b[0m in \u001b[0;36m__call__\u001b[0;34m(self, *args, **kwargs)\u001b[0m\n\u001b[1;32m   1018\u001b[0m         training=training_mode):\n\u001b[1;32m   1019\u001b[0m \u001b[0;34m\u001b[0m\u001b[0m\n\u001b[0;32m-> 1020\u001b[0;31m       \u001b[0minput_spec\u001b[0m\u001b[0;34m.\u001b[0m\u001b[0massert_input_compatibility\u001b[0m\u001b[0;34m(\u001b[0m\u001b[0mself\u001b[0m\u001b[0;34m.\u001b[0m\u001b[0minput_spec\u001b[0m\u001b[0;34m,\u001b[0m \u001b[0minputs\u001b[0m\u001b[0;34m,\u001b[0m \u001b[0mself\u001b[0m\u001b[0;34m.\u001b[0m\u001b[0mname\u001b[0m\u001b[0;34m)\u001b[0m\u001b[0;34m\u001b[0m\u001b[0;34m\u001b[0m\u001b[0m\n\u001b[0m\u001b[1;32m   1021\u001b[0m       \u001b[0;32mif\u001b[0m \u001b[0meager\u001b[0m\u001b[0;34m:\u001b[0m\u001b[0;34m\u001b[0m\u001b[0;34m\u001b[0m\u001b[0m\n\u001b[1;32m   1022\u001b[0m         \u001b[0mcall_fn\u001b[0m \u001b[0;34m=\u001b[0m \u001b[0mself\u001b[0m\u001b[0;34m.\u001b[0m\u001b[0mcall\u001b[0m\u001b[0;34m\u001b[0m\u001b[0;34m\u001b[0m\u001b[0m\n",
            "\u001b[0;32m/usr/local/lib/python3.7/dist-packages/keras/engine/input_spec.py\u001b[0m in \u001b[0;36massert_input_compatibility\u001b[0;34m(input_spec, inputs, layer_name)\u001b[0m\n\u001b[1;32m    200\u001b[0m                      \u001b[0mstr\u001b[0m\u001b[0;34m(\u001b[0m\u001b[0mlen\u001b[0m\u001b[0;34m(\u001b[0m\u001b[0minput_spec\u001b[0m\u001b[0;34m)\u001b[0m\u001b[0;34m)\u001b[0m \u001b[0;34m+\u001b[0m \u001b[0;34m' input(s), '\u001b[0m\u001b[0;34m\u001b[0m\u001b[0;34m\u001b[0m\u001b[0m\n\u001b[1;32m    201\u001b[0m                      \u001b[0;34m'but it received '\u001b[0m \u001b[0;34m+\u001b[0m \u001b[0mstr\u001b[0m\u001b[0;34m(\u001b[0m\u001b[0mlen\u001b[0m\u001b[0;34m(\u001b[0m\u001b[0minputs\u001b[0m\u001b[0;34m)\u001b[0m\u001b[0;34m)\u001b[0m \u001b[0;34m+\u001b[0m\u001b[0;34m\u001b[0m\u001b[0;34m\u001b[0m\u001b[0m\n\u001b[0;32m--> 202\u001b[0;31m                      ' input tensors. Inputs received: ' + str(inputs))\n\u001b[0m\u001b[1;32m    203\u001b[0m   \u001b[0;32mfor\u001b[0m \u001b[0minput_index\u001b[0m\u001b[0;34m,\u001b[0m \u001b[0;34m(\u001b[0m\u001b[0mx\u001b[0m\u001b[0;34m,\u001b[0m \u001b[0mspec\u001b[0m\u001b[0;34m)\u001b[0m \u001b[0;32min\u001b[0m \u001b[0menumerate\u001b[0m\u001b[0;34m(\u001b[0m\u001b[0mzip\u001b[0m\u001b[0;34m(\u001b[0m\u001b[0minputs\u001b[0m\u001b[0;34m,\u001b[0m \u001b[0minput_spec\u001b[0m\u001b[0;34m)\u001b[0m\u001b[0;34m)\u001b[0m\u001b[0;34m:\u001b[0m\u001b[0;34m\u001b[0m\u001b[0;34m\u001b[0m\u001b[0m\n\u001b[1;32m    204\u001b[0m     \u001b[0;32mif\u001b[0m \u001b[0mspec\u001b[0m \u001b[0;32mis\u001b[0m \u001b[0;32mNone\u001b[0m\u001b[0;34m:\u001b[0m\u001b[0;34m\u001b[0m\u001b[0;34m\u001b[0m\u001b[0m\n",
            "\u001b[0;31mValueError\u001b[0m: Layer sequential expects 1 input(s), but it received 100 input tensors. Inputs received: [<tf.Tensor: shape=(), dtype=float32, numpy=1.8230972>, <tf.Tensor: shape=(), dtype=float32, numpy=1.4736831>, <tf.Tensor: shape=(), dtype=float32, numpy=-0.17077798>, <tf.Tensor: shape=(), dtype=float32, numpy=0.5186576>, <tf.Tensor: shape=(), dtype=float32, numpy=-1.1141585>, <tf.Tensor: shape=(), dtype=float32, numpy=1.1173729>, <tf.Tensor: shape=(), dtype=float32, numpy=0.3702132>, <tf.Tensor: shape=(), dtype=float32, numpy=-0.8716845>, <tf.Tensor: shape=(), dtype=float32, numpy=-0.07193776>, <tf.Tensor: shape=(), dtype=float32, numpy=0.63077646>, <tf.Tensor: shape=(), dtype=float32, numpy=1.8294485>, <tf.Tensor: shape=(), dtype=float32, numpy=-0.52732295>, <tf.Tensor: shape=(), dtype=float32, numpy=-0.65591127>, <tf.Tensor: shape=(), dtype=float32, numpy=0.18286557>, <tf.Tensor: shape=(), dtype=float32, numpy=-1.0536718>, <tf.Tensor: shape=(), dtype=float32, numpy=1.3226488>, <tf.Tensor: shape=(), dtype=float32, numpy=0.43549454>, <tf.Tensor: shape=(), dtype=float32, numpy=-0.0047534406>, <tf.Tensor: shape=(), dtype=float32, numpy=1.9917834>, <tf.Tensor: shape=(), dtype=float32, numpy=-0.5880415>, <tf.Tensor: shape=(), dtype=float32, numpy=-0.54454476>, <tf.Tensor: shape=(), dtype=float32, numpy=0.33251476>, <tf.Tensor: shape=(), dtype=float32, numpy=-0.122392595>, <tf.Tensor: shape=(), dtype=float32, numpy=0.5175815>, <tf.Tensor: shape=(), dtype=float32, nu..."
          ]
        }
      ]
    },
    {
      "cell_type": "markdown",
      "metadata": {
        "id": "0Hv5I-T20RsE"
      },
      "source": [
        "#### Custimize your own NN!"
      ]
    },
    {
      "cell_type": "code",
      "metadata": {
        "colab": {
          "background_save": true
        },
        "id": "E_d18QyN0KWm"
      },
      "source": [
        "class NeuralNet(tf.keras.Model):\n",
        "\n",
        "  def __init__(self, output_size, layers=[5,5], use_softmax=True):\n",
        "    super().__init__()\n",
        "    initializer = tf.keras.initializers.VarianceScaling(scale=1.0, mode=\"fan_avg\", distribution=\"normal\", seed=None)\n",
        "\n",
        "    self.dense1 = tf.keras.layers.Dense(layers[0], activation=tf.nn.relu, kernel_initializer=initializer)\n",
        "    self.dense2 = tf.keras.layers.Dense(layers[1], activation=tf.nn.relu, kernel_initializer=initializer)\n",
        "\n",
        "    activation = tf.nn.softmax if use_softmax else tf.identity\n",
        "    self.output_layer = tf.keras.layers.Dense(output_size, activation=activation, kernel_initializer=initializer)\n",
        "\n",
        "  def call(self, inputs):\n",
        "    x = self.dense1(inputs)\n",
        "    x = self.dense2(x)\n",
        "    x = self.output_layer(x)\n",
        "    return x\n",
        "  # add more (useful) helper functions if you like\n",
        "  def half_forward(self, inputs):\n",
        "    x = self.dense1(inputs)\n",
        "    return x"
      ],
      "execution_count": null,
      "outputs": []
    },
    {
      "cell_type": "code",
      "metadata": {
        "id": "wpeV8-e10aA-"
      },
      "source": [
        "model3 = NeuralNet(2)"
      ],
      "execution_count": null,
      "outputs": []
    },
    {
      "cell_type": "code",
      "metadata": {
        "colab": {
          "base_uri": "https://localhost:8080/"
        },
        "id": "L53OCZwk1ksE",
        "outputId": "cc59a8c9-89c8-4a2c-b36f-55beecd078ae"
      },
      "source": [
        "model3(X)"
      ],
      "execution_count": null,
      "outputs": [
        {
          "data": {
            "text/plain": [
              "<tf.Tensor: shape=(10, 2), dtype=float32, numpy=\n",
              "array([[0.45828846, 0.54171157],\n",
              "       [0.4788609 , 0.521139  ],\n",
              "       [0.43221635, 0.56778365],\n",
              "       [0.47882813, 0.5211719 ],\n",
              "       [0.42057157, 0.57942843],\n",
              "       [0.5       , 0.5       ],\n",
              "       [0.41304505, 0.586955  ],\n",
              "       [0.4903891 , 0.5096109 ],\n",
              "       [0.47090253, 0.5290975 ],\n",
              "       [0.5       , 0.5       ]], dtype=float32)>"
            ]
          },
          "execution_count": 21,
          "metadata": {},
          "output_type": "execute_result"
        }
      ]
    },
    {
      "cell_type": "code",
      "metadata": {
        "colab": {
          "base_uri": "https://localhost:8080/"
        },
        "id": "_jJSmeWk2a1y",
        "outputId": "b03be386-453a-4e2d-ae61-dd7be881046c"
      },
      "source": [
        "model3.half_forward(X)"
      ],
      "execution_count": null,
      "outputs": [
        {
          "data": {
            "text/plain": [
              "<tf.Tensor: shape=(10, 5), dtype=float32, numpy=\n",
              "array([[0.        , 0.        , 0.7999295 , 0.01888496, 0.        ],\n",
              "       [0.22100699, 0.        , 0.        , 0.        , 0.        ],\n",
              "       [0.        , 2.3816447 , 0.        , 1.5543183 , 1.6892813 ],\n",
              "       [0.        , 0.        , 0.41848102, 0.        , 0.        ],\n",
              "       [0.        , 0.        , 1.5111339 , 0.99293834, 0.6459769 ],\n",
              "       [0.        , 0.9052312 , 0.        , 0.02676344, 1.1932855 ],\n",
              "       [0.11835292, 0.99755573, 0.        , 0.840219  , 0.10977566],\n",
              "       [1.0258327 , 0.6245448 , 0.2808645 , 0.49311754, 0.3932676 ],\n",
              "       [0.        , 0.        , 0.17448562, 0.        , 0.631918  ],\n",
              "       [0.        , 0.        , 0.        , 0.        , 0.        ]],\n",
              "      dtype=float32)>"
            ]
          },
          "execution_count": 22,
          "metadata": {},
          "output_type": "execute_result"
        }
      ]
    },
    {
      "cell_type": "markdown",
      "metadata": {
        "id": "O3ALg3rTzT8O"
      },
      "source": [
        "\n",
        "\n",
        "```\n",
        "`# This is formatted as code`\n",
        "```\n",
        "\n",
        "### Supervised Learning -- Classification"
      ]
    },
    {
      "cell_type": "code",
      "metadata": {
        "id": "mJhqg2kLzc4I"
      },
      "source": [
        "mnist = tf.keras.datasets.mnist\n",
        "\n",
        "(x_train, y_train), (x_test, y_test) = mnist.load_data()"
      ],
      "execution_count": null,
      "outputs": []
    },
    {
      "cell_type": "code",
      "metadata": {
        "id": "7ies1jyX3a-X"
      },
      "source": [
        "plt.hist(x_train.flatten() / 255.)"
      ],
      "execution_count": null,
      "outputs": []
    },
    {
      "cell_type": "code",
      "metadata": {
        "id": "UZMOYAXlzj1o"
      },
      "source": [
        "x_train.shape"
      ],
      "execution_count": null,
      "outputs": []
    },
    {
      "cell_type": "code",
      "metadata": {
        "id": "Vyx-oTkOzmkF"
      },
      "source": [
        "plt.imshow(x_train[0])"
      ],
      "execution_count": null,
      "outputs": []
    },
    {
      "cell_type": "code",
      "metadata": {
        "id": "zdYLFqYAzrqP"
      },
      "source": [
        "x_train, x_test = x_train / 255., x_test / 255."
      ],
      "execution_count": null,
      "outputs": []
    },
    {
      "cell_type": "code",
      "metadata": {
        "id": "wL5Smhus0xMZ"
      },
      "source": [
        "x_train.shape"
      ],
      "execution_count": null,
      "outputs": []
    },
    {
      "cell_type": "code",
      "metadata": {
        "id": "53Iuf6Vrz59_"
      },
      "source": [
        "model = tf.keras.models.Sequential(\n",
        "[\n",
        " tf.keras.layers.Flatten(),\n",
        " tf.keras.layers.Dense(128, activation='relu'),\n",
        " tf.keras.layers.Dense(10, activation=None)\n",
        "])"
      ],
      "execution_count": null,
      "outputs": []
    },
    {
      "cell_type": "code",
      "metadata": {
        "id": "_R4J47ZO0ZB-"
      },
      "source": [
        "tf.nn.softmax(model(x_test))"
      ],
      "execution_count": null,
      "outputs": []
    },
    {
      "cell_type": "code",
      "metadata": {
        "id": "KD5Vqwwc0dlD"
      },
      "source": [
        "tf.reduce_sum(tf.nn.softmax(model(x_test)), axis=1)"
      ],
      "execution_count": null,
      "outputs": []
    },
    {
      "cell_type": "code",
      "metadata": {
        "id": "McwrcJAY1P-V"
      },
      "source": [
        "y_test[:3]"
      ],
      "execution_count": null,
      "outputs": []
    },
    {
      "cell_type": "code",
      "metadata": {
        "id": "O08eIEor0pwv"
      },
      "source": [
        "loss_fn = tf.keras.losses.SparseCategoricalCrossentropy(from_logits=True)"
      ],
      "execution_count": null,
      "outputs": []
    },
    {
      "cell_type": "code",
      "metadata": {
        "id": "9Ka-E20D1eDe"
      },
      "source": [
        "loss_fn(y_test, model(x_test))"
      ],
      "execution_count": null,
      "outputs": []
    },
    {
      "cell_type": "code",
      "metadata": {
        "id": "AxB4r1Oe1hU7"
      },
      "source": [
        "np.log(10)"
      ],
      "execution_count": null,
      "outputs": []
    },
    {
      "cell_type": "code",
      "metadata": {
        "id": "PfG5CiBA1l4p"
      },
      "source": [
        "model.compile(\n",
        "    optimizer='adam',\n",
        "    loss=loss_fn,\n",
        "    metrics=['accuracy'],\n",
        ")"
      ],
      "execution_count": null,
      "outputs": []
    },
    {
      "cell_type": "code",
      "metadata": {
        "id": "Fxaunakb7184"
      },
      "source": [
        "model.trainable_variables"
      ],
      "execution_count": null,
      "outputs": []
    },
    {
      "cell_type": "code",
      "metadata": {
        "id": "yUmHftIC1zFO"
      },
      "source": [
        "history = model.fit(x_train, y_train, epochs=5,\n",
        "          validation_data=(x_test, y_test))"
      ],
      "execution_count": null,
      "outputs": []
    },
    {
      "cell_type": "code",
      "metadata": {
        "id": "-Q0zZc6j18Ek"
      },
      "source": [
        "plt.figure(figsize=(8, 3))\n",
        "plt.plot(history.history['accuracy'], label='train')\n",
        "plt.plot(history.history['val_accuracy'], label='val')\n",
        "plt.ylabel('accuracy', fontsize=16)\n",
        "plt.xlabel('steps', fontsize=16)\n",
        "plt.legend(fontsize=16)\n",
        "plt.grid()"
      ],
      "execution_count": null,
      "outputs": []
    },
    {
      "cell_type": "code",
      "metadata": {
        "id": "PYzbVS6n2R_Z"
      },
      "source": [
        "# failure = 6744\n",
        "index = np.random.choice(len(x_test))\n",
        "plt.figure(figsize=(12, 6))\n",
        "plt.subplot(121)\n",
        "plt.imshow(x_test[index])\n",
        "plt.subplot(122)\n",
        "probs = tf.nn.softmax(model(x_test[index][None]))[0]\n",
        "plt.plot(probs, '-o')\n",
        "plt.xticks(range(10))\n",
        "plt.grid()\n",
        "plt.show()"
      ],
      "execution_count": null,
      "outputs": []
    },
    {
      "cell_type": "markdown",
      "metadata": {
        "id": "6b2kwI8m3Dy0"
      },
      "source": [
        "### Supervised Learning -- Regression"
      ]
    },
    {
      "cell_type": "code",
      "metadata": {
        "id": "cJAc5um43mjx"
      },
      "source": [
        "num_samples = 40\n",
        "x = np.random.uniform(-5, 5, (num_samples, 1))\n",
        "y = np.sin(x)\n",
        "x_train, x_test = x[:num_samples // 2], x[num_samples // 2:]\n",
        "y_train, y_test = y[:num_samples // 2], y[num_samples // 2:]\n",
        "plt.plot(x, y, 'o')"
      ],
      "execution_count": null,
      "outputs": []
    },
    {
      "cell_type": "code",
      "metadata": {
        "id": "2ATMcugy4S0h"
      },
      "source": [
        "tf.keras.optimizers.Adam().learning_rate"
      ],
      "execution_count": null,
      "outputs": []
    },
    {
      "cell_type": "code",
      "metadata": {
        "id": "Gf9l-y_m31qb"
      },
      "source": [
        "model = tf.keras.Sequential([\n",
        "  tf.keras.layers.Dense(1024, activation='relu'),\n",
        "  tf.keras.layers.Dense(1, activation=None),\n",
        "])\n",
        "model.compile(\n",
        "    optimizer=tf.keras.optimizers.Adam(learning_rate=3e-4),\n",
        "    loss='mse',\n",
        ")"
      ],
      "execution_count": null,
      "outputs": []
    },
    {
      "cell_type": "code",
      "metadata": {
        "id": "Esq-VB_t4bvt"
      },
      "source": [
        "history = model.fit(x_train, y_train, epochs=500, validation_data=(x_test, y_test),\n",
        "                    batch_size=256,\n",
        ")"
      ],
      "execution_count": null,
      "outputs": []
    },
    {
      "cell_type": "code",
      "metadata": {
        "id": "krsPXgg95eo2"
      },
      "source": [
        "help(tf.data.Dataset)"
      ],
      "execution_count": null,
      "outputs": []
    },
    {
      "cell_type": "code",
      "metadata": {
        "id": "6zenukW64i42"
      },
      "source": [
        "plt.figure(figsize=(8, 3))\n",
        "plt.plot(history.history['loss'], label='train')\n",
        "plt.plot(history.history['val_loss'], label='test')\n",
        "plt.grid()\n",
        "plt.legend(fontsize=16)\n",
        "plt.xlabel('steps', fontsize=16)\n",
        "plt.ylabel('loss', fontsize=16)\n",
        "plt.tight_layout()\n",
        "plt.show()"
      ],
      "execution_count": null,
      "outputs": []
    },
    {
      "cell_type": "code",
      "metadata": {
        "id": "khPR6q-64rpE"
      },
      "source": [
        "x = np.linspace(-10, 10, 100)\n",
        "y_hat = model(x)\n",
        "plt.plot(x_train, y_train, 'o', label='training data')\n",
        "plt.plot(x, y_hat, label='prediction')\n",
        "plt.plot(x, np.sin(x), label='y=sin(x')\n",
        "plt.legend()\n",
        "plt.show()"
      ],
      "execution_count": null,
      "outputs": []
    },
    {
      "cell_type": "markdown",
      "metadata": {
        "id": "MCKiUzVR496R"
      },
      "source": [
        "### Low-level operations\n",
        "$$X \\beta = y$$"
      ]
    },
    {
      "cell_type": "code",
      "metadata": {
        "id": "aOEG8PL35q7-"
      },
      "source": [
        "X = np.random.normal(size=(100, 2))\n",
        "y = X @ np.array([1, 2])"
      ],
      "execution_count": null,
      "outputs": []
    },
    {
      "cell_type": "code",
      "metadata": {
        "id": "_dg3whSN51Yp"
      },
      "source": [
        "beta = tf.Variable(np.zeros(2))\n",
        "y_hat = tf.linalg.matvec(X, beta)"
      ],
      "execution_count": null,
      "outputs": []
    },
    {
      "cell_type": "code",
      "metadata": {
        "id": "6QrarFTE6F1Z"
      },
      "source": [
        "y_hat"
      ],
      "execution_count": null,
      "outputs": []
    },
    {
      "cell_type": "code",
      "metadata": {
        "id": "zVkgU9HI6GWA"
      },
      "source": [
        "loss = tf.reduce_mean((y - y_hat)**2)"
      ],
      "execution_count": null,
      "outputs": []
    },
    {
      "cell_type": "code",
      "metadata": {
        "id": "R907CdJh6M7y"
      },
      "source": [
        "beta2 = tf.Variable(0,)\n",
        "history = []\n",
        "for _ in range(20):\n",
        "  with tf.GradientTape() as tape:\n",
        "    tape.watch([beta])\n",
        "    y_hat = tf.linalg.matvec(X, beta)\n",
        "    loss = tf.reduce_mean((y - y_hat)**2)\n",
        "\n",
        "  learning_rate = 1e-1\n",
        "  beta = beta - learning_rate * tape.gradient(loss, beta)\n",
        "  history.append(loss.numpy())"
      ],
      "execution_count": null,
      "outputs": []
    },
    {
      "cell_type": "code",
      "metadata": {
        "id": "ep-6gnKQ62Qt"
      },
      "source": [
        "plt.plot(history)"
      ],
      "execution_count": null,
      "outputs": []
    },
    {
      "cell_type": "code",
      "metadata": {
        "id": "Anw6x6zc6uZd"
      },
      "source": [
        "beta"
      ],
      "execution_count": null,
      "outputs": []
    },
    {
      "cell_type": "markdown",
      "metadata": {
        "id": "nOeg264z6k1n"
      },
      "source": [
        "### Adversarial Example\n",
        "$$L(f_\\theta(x), y)$$"
      ]
    },
    {
      "cell_type": "code",
      "metadata": {
        "id": "GFdWYD8x8AkR"
      },
      "source": [
        "mnist = tf.keras.datasets.mnist\n",
        "\n",
        "(x_train, y_train), (x_test, y_test) = mnist.load_data()\n",
        "x_train, x_test = x_train / 255.0, x_test / 255.0\n",
        "\n",
        "model = tf.keras.models.Sequential([\n",
        "  tf.keras.layers.Flatten(input_shape=(28, 28)),\n",
        "  tf.keras.layers.Dense(128, activation='relu'),\n",
        "  tf.keras.layers.Dense(10)\n",
        "])\n",
        "\n",
        "loss_fn = tf.keras.losses.SparseCategoricalCrossentropy(from_logits=True)\n",
        "\n",
        "model.compile(optimizer='adam',\n",
        "              loss=loss_fn,\n",
        "              metrics=['accuracy'])\n",
        "\n",
        "history = model.fit(x_train, y_train, epochs=5,\n",
        "          validation_data=(x_test, y_test))"
      ],
      "execution_count": null,
      "outputs": []
    },
    {
      "cell_type": "code",
      "metadata": {
        "id": "PF4ZOc1M8Gni"
      },
      "source": [
        "x_adv = tf.Variable(x_test[0])\n",
        "y_adv = y_test[0]\n",
        "plt.imshow(x_adv.numpy())\n",
        "plt.show()"
      ],
      "execution_count": null,
      "outputs": []
    },
    {
      "cell_type": "code",
      "metadata": {
        "id": "WGvc8t088oKx"
      },
      "source": [
        "x_adv.shape, x_adv[None].shape"
      ],
      "execution_count": null,
      "outputs": []
    },
    {
      "cell_type": "code",
      "metadata": {
        "id": "fkrYbuk39BWb"
      },
      "source": [
        "tf.expand_dims(x_adv, 0).shape"
      ],
      "execution_count": null,
      "outputs": []
    },
    {
      "cell_type": "code",
      "metadata": {
        "id": "tsWZrpCv8Pb1"
      },
      "source": [
        "x_adv = tf.Variable(x_test[0]) # shape = (28, 28)\n",
        "learning_rate = 1\n",
        "max_norm = 1e-1\n",
        "\n",
        "x_adv_history = []\n",
        "p_correct_history = []\n",
        "for _ in range(15):\n",
        "  with tf.GradientTape() as tape:\n",
        "    tape.watch(x_adv)\n",
        "    y_hat = model(x_adv[None])\n",
        "    loss = loss_fn([y_adv], y_hat)\n",
        "  grad = tape.gradient(loss, x_adv)\n",
        "  grad = (max_norm / tf.norm(grad)) * grad\n",
        "  x_adv = tf.clip_by_value(x_adv + learning_rate * grad, 0, 1)\n",
        "  x_adv_history.append(x_adv.numpy())\n",
        "  p_correct_history.append(tf.nn.softmax(y_hat)[0, y_adv])"
      ],
      "execution_count": null,
      "outputs": []
    },
    {
      "cell_type": "code",
      "metadata": {
        "id": "or4X2b1H8OrO"
      },
      "source": [
        "plt.plot(p_correct_history)"
      ],
      "execution_count": null,
      "outputs": []
    },
    {
      "cell_type": "code",
      "metadata": {
        "id": "Zym8jgKc9Mo6"
      },
      "source": [
        "plt.imshow(x_adv)"
      ],
      "execution_count": null,
      "outputs": []
    },
    {
      "cell_type": "code",
      "metadata": {
        "id": "rMcDSDv19zHV"
      },
      "source": [
        "plt.figure(figsize=(12, 9))\n",
        "for index, (x, p_correct) in enumerate(zip(x_adv_history, p_correct_history)):\n",
        "  plt.subplot(3, 5, index + 1)\n",
        "  plt.title('p(y) = %.2f' % p_correct, fontsize=16)\n",
        "  plt.imshow(x)\n",
        "  plt.axis('off')\n",
        "plt.show()"
      ],
      "execution_count": null,
      "outputs": []
    },
    {
      "cell_type": "code",
      "metadata": {
        "id": "1kz7su_B92_w"
      },
      "source": [
        "plt.plot(tf.nn.softmax(model(x_adv[None]))[0])"
      ],
      "execution_count": null,
      "outputs": []
    }
  ]
}